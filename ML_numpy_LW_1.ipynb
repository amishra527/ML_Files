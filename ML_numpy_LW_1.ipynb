{
  "nbformat": 4,
  "nbformat_minor": 0,
  "metadata": {
    "colab": {
      "name": "ML numpy LW 1",
      "provenance": [],
      "collapsed_sections": []
    },
    "kernelspec": {
      "name": "python3",
      "display_name": "Python 3"
    },
    "language_info": {
      "name": "python"
    }
  },
  "cells": [
    {
      "cell_type": "markdown",
      "metadata": {
        "id": "DXERhx5NSeme"
      },
      "source": [
        "1. Write a NumPy program to get the numpy version and show numpy build configuration. "
      ]
    },
    {
      "cell_type": "code",
      "metadata": {
        "id": "hAAMWX3rSZSv",
        "colab": {
          "base_uri": "https://localhost:8080/"
        },
        "outputId": "7391f468-31a5-411a-c7eb-92c1a8a5e99d"
      },
      "source": [
        "import numpy as np\n",
        "print(np.__version__)\n",
        "print(np.show_config())"
      ],
      "execution_count": null,
      "outputs": [
        {
          "output_type": "stream",
          "text": [
            "1.19.5\n",
            "blas_mkl_info:\n",
            "  NOT AVAILABLE\n",
            "blis_info:\n",
            "  NOT AVAILABLE\n",
            "openblas_info:\n",
            "    libraries = ['openblas', 'openblas']\n",
            "    library_dirs = ['/usr/local/lib']\n",
            "    language = c\n",
            "    define_macros = [('HAVE_CBLAS', None)]\n",
            "blas_opt_info:\n",
            "    libraries = ['openblas', 'openblas']\n",
            "    library_dirs = ['/usr/local/lib']\n",
            "    language = c\n",
            "    define_macros = [('HAVE_CBLAS', None)]\n",
            "lapack_mkl_info:\n",
            "  NOT AVAILABLE\n",
            "openblas_lapack_info:\n",
            "    libraries = ['openblas', 'openblas']\n",
            "    library_dirs = ['/usr/local/lib']\n",
            "    language = c\n",
            "    define_macros = [('HAVE_CBLAS', None)]\n",
            "lapack_opt_info:\n",
            "    libraries = ['openblas', 'openblas']\n",
            "    library_dirs = ['/usr/local/lib']\n",
            "    language = c\n",
            "    define_macros = [('HAVE_CBLAS', None)]\n",
            "None\n"
          ],
          "name": "stdout"
        }
      ]
    },
    {
      "cell_type": "markdown",
      "metadata": {
        "id": "dBQpMGFpG1Nz"
      },
      "source": [
        "2. Write a NumPy program to get help on the add function."
      ]
    },
    {
      "cell_type": "code",
      "metadata": {
        "id": "2sw4J1HOG4Se",
        "colab": {
          "base_uri": "https://localhost:8080/",
          "height": 191
        },
        "outputId": "24df5ede-8554-44d9-f73b-45b38fbdc884"
      },
      "source": [
        "print(np.info(np.add))\n",
        "\n"
      ],
      "execution_count": null,
      "outputs": [
        {
          "output_type": "stream",
          "text": [
            "None\n"
          ],
          "name": "stdout"
        },
        {
          "output_type": "error",
          "ename": "NameError",
          "evalue": "ignored",
          "traceback": [
            "\u001b[0;31m---------------------------------------------------------------------------\u001b[0m",
            "\u001b[0;31mNameError\u001b[0m                                 Traceback (most recent call last)",
            "\u001b[0;32m<ipython-input-12-3009649eba0a>\u001b[0m in \u001b[0;36m<module>\u001b[0;34m()\u001b[0m\n\u001b[1;32m      1\u001b[0m \u001b[0mprint\u001b[0m\u001b[0;34m(\u001b[0m\u001b[0mnp\u001b[0m\u001b[0;34m.\u001b[0m\u001b[0minfo\u001b[0m\u001b[0;34m(\u001b[0m\u001b[0mnp\u001b[0m\u001b[0;34m.\u001b[0m\u001b[0madd\u001b[0m\u001b[0;34m)\u001b[0m\u001b[0;34m)\u001b[0m\u001b[0;34m\u001b[0m\u001b[0;34m\u001b[0m\u001b[0m\n\u001b[0;32m----> 2\u001b[0;31m \u001b[0mprint\u001b[0m\u001b[0;34m(\u001b[0m\u001b[0mnp\u001b[0m\u001b[0;34m.\u001b[0m\u001b[0minfo\u001b[0m\u001b[0;34m(\u001b[0m\u001b[0madd\u001b[0m\u001b[0;34m)\u001b[0m\u001b[0;34m)\u001b[0m\u001b[0;34m\u001b[0m\u001b[0;34m\u001b[0m\u001b[0m\n\u001b[0m",
            "\u001b[0;31mNameError\u001b[0m: name 'add' is not defined"
          ]
        }
      ]
    },
    {
      "cell_type": "markdown",
      "metadata": {
        "id": "alU1d7_5G4fN"
      },
      "source": [
        "3. Write a NumPy program to test whether none of the elements of a given array is zero."
      ]
    },
    {
      "cell_type": "code",
      "metadata": {
        "colab": {
          "base_uri": "https://localhost:8080/"
        },
        "id": "-Fq0CTBLG8-w",
        "outputId": "2982181b-8612-4163-ed9b-c95f1a1ecd51"
      },
      "source": [
        "x = np.array([1, 2, 3, 4])\n",
        "\n",
        "print(x)\n",
        "\n",
        "print(np.all(x))\n",
        "x = np.array([0, 1, 2, 3])\n",
        "\n",
        "print(x)\n",
        "\n",
        "print(np.all(x))"
      ],
      "execution_count": null,
      "outputs": [
        {
          "output_type": "stream",
          "text": [
            "[1 2 3 4]\n",
            "True\n",
            "[0 1 2 3]\n",
            "False\n"
          ],
          "name": "stdout"
        }
      ]
    },
    {
      "cell_type": "markdown",
      "metadata": {
        "id": "Gwe-iGqQG9Hd"
      },
      "source": [
        "4. Write a NumPy program to test if any of the elements of a given array is non-zero. "
      ]
    },
    {
      "cell_type": "code",
      "metadata": {
        "colab": {
          "base_uri": "https://localhost:8080/"
        },
        "id": "hHSMqBGRG_Hm",
        "outputId": "2f4d69d9-1d2c-4986-af4d-7ab04f520646"
      },
      "source": [
        "x = np.array([1, 0, 0, 0])\n",
        "\n",
        "print(x)\n",
        "\n",
        "print(np.any(x))\n",
        "x = np.array([0, 0, 0, 0])\n",
        "\n",
        "print(x)\n",
        "\n",
        "print(np.any(x))"
      ],
      "execution_count": null,
      "outputs": [
        {
          "output_type": "stream",
          "text": [
            "Original array:\n",
            "[1 0 0 0]\n",
            "Test whether any of the elements of a given array is non-zero:\n",
            "True\n",
            "Original array:\n",
            "[0 0 0 0]\n",
            "Test whether any of the elements of a given array is non-zero:\n",
            "False\n"
          ],
          "name": "stdout"
        }
      ]
    },
    {
      "cell_type": "markdown",
      "metadata": {
        "id": "3Dp85adAG_QY"
      },
      "source": [
        "5. Write a NumPy program to test a given array element-wise for finiteness (not infinity or not a  Number). "
      ]
    },
    {
      "cell_type": "code",
      "metadata": {
        "colab": {
          "base_uri": "https://localhost:8080/"
        },
        "id": "EGpu_mhrHBDg",
        "outputId": "bebe4ed4-208b-4d33-f9bf-42eabd617e6c"
      },
      "source": [
        "a = np.array([1, 0, np.nan, np.inf])\n",
        "\n",
        "print(a)\n",
        "\n",
        "print(np.isfinite(a))"
      ],
      "execution_count": null,
      "outputs": [
        {
          "output_type": "stream",
          "text": [
            "Original array\n",
            "[ 1.  0. nan inf]\n",
            "Test a given array element-wise for finiteness :\n",
            "[ True  True False False]\n"
          ],
          "name": "stdout"
        }
      ]
    },
    {
      "cell_type": "markdown",
      "metadata": {
        "id": "US7UgRpdHBNJ"
      },
      "source": [
        "6. Write a NumPy program to test element-wise for positive or negative infinity. "
      ]
    },
    {
      "cell_type": "code",
      "metadata": {
        "colab": {
          "base_uri": "https://localhost:8080/"
        },
        "id": "1A_9j9omHDTZ",
        "outputId": "679f0da3-150d-466d-f3dc-94b8ca89a22a"
      },
      "source": [
        "a = np.array([1, 0, np.nan, np.inf])\n",
        "\n",
        "print(a)\n",
        "\n",
        "print(np.isinf(a))"
      ],
      "execution_count": null,
      "outputs": [
        {
          "output_type": "stream",
          "text": [
            "Original array\n",
            "[ 1.  0. nan inf]\n",
            "Test element-wise for positive or negative infinity:\n",
            "[False False False  True]\n"
          ],
          "name": "stdout"
        }
      ]
    },
    {
      "cell_type": "markdown",
      "metadata": {
        "id": "gAJsk9KHHDcB"
      },
      "source": [
        "7. Write a NumPy program to test element-wise for NaN of a given array. "
      ]
    },
    {
      "cell_type": "code",
      "metadata": {
        "colab": {
          "base_uri": "https://localhost:8080/"
        },
        "id": "LGYV22fHHFFK",
        "outputId": "a3aa0228-7b68-401d-fe95-ddfb4e7d642e"
      },
      "source": [
        "a = np.array([1, 0, np.nan, np.inf])\n",
        "\n",
        "print(a)\n",
        "\n",
        "print(np.isnan(a))"
      ],
      "execution_count": null,
      "outputs": [
        {
          "output_type": "stream",
          "text": [
            "Original array\n",
            "[ 1.  0. nan inf]\n",
            "Test element-wise for NaN:\n",
            "[False False  True False]\n"
          ],
          "name": "stdout"
        }
      ]
    },
    {
      "cell_type": "markdown",
      "metadata": {
        "id": "KGfxyVTOHFOI"
      },
      "source": [
        "8. Write a NumPy program to test element-wise for complex number, real number of a given array.  Also test if a given number is a scalar type or not. "
      ]
    },
    {
      "cell_type": "code",
      "metadata": {
        "colab": {
          "base_uri": "https://localhost:8080/"
        },
        "id": "ot5pfshBHHkY",
        "outputId": "f7b8149d-562b-4e9d-e00d-55af18dee0cc"
      },
      "source": [
        "a = np.array([1+1j, 1+0j, 4.5, 3, 2, 2j])\n",
        "\n",
        "print(a)\n",
        "\n",
        "print(np.iscomplex(a))\n",
        "\n",
        "print(np.isreal(a))\n",
        "\n",
        "print(np.isscalar(3.1))\n",
        "print(np.isscalar([3.1]))"
      ],
      "execution_count": null,
      "outputs": [
        {
          "output_type": "stream",
          "text": [
            "Original array\n",
            "[1. +1.j 1. +0.j 4.5+0.j 3. +0.j 2. +0.j 0. +2.j]\n",
            "Checking for complex number:\n",
            "[ True False False False False  True]\n",
            "Checking for real number:\n",
            "[False  True  True  True  True False]\n",
            "Checking for scalar type:\n",
            "True\n",
            "False\n"
          ],
          "name": "stdout"
        }
      ]
    },
    {
      "cell_type": "markdown",
      "metadata": {
        "id": "itYSo_HmHHsq"
      },
      "source": [
        "9. Write a NumPy program to create an element-wise comparison (greater, greater_equal, less and  less_equal) of two given arrays. "
      ]
    },
    {
      "cell_type": "code",
      "metadata": {
        "colab": {
          "base_uri": "https://localhost:8080/"
        },
        "id": "1ZjAfPqtHJtt",
        "outputId": "30acccc4-660c-4ad1-d95d-4dbb1f4fa8b7"
      },
      "source": [
        "x = np.array([3, 5])\n",
        "y = np.array([2, 5])\n",
        "\n",
        "print(x)\n",
        "print(y)\n",
        "\n",
        "print(np.greater(x, y))\n",
        "\n",
        "print(np.greater_equal(x, y))\n",
        "\n",
        "print(np.less(x, y))\n",
        "\n",
        "print(np.less_equal(x, y))"
      ],
      "execution_count": null,
      "outputs": [
        {
          "output_type": "stream",
          "text": [
            "Original numbers:\n",
            "[3 5]\n",
            "[2 5]\n",
            "Comparison - greater\n",
            "[ True False]\n",
            "Comparison - greater_equal\n",
            "[ True  True]\n",
            "Comparison - less\n",
            "[False False]\n",
            "Comparison - less_equal\n",
            "[False  True]\n"
          ],
          "name": "stdout"
        }
      ]
    },
    {
      "cell_type": "markdown",
      "metadata": {
        "id": "tdyofYdWHJ3y"
      },
      "source": [
        "10. Write a NumPy program to create an array of 10 zeros, an array of 10 ones, and an array of 10  fives. "
      ]
    },
    {
      "cell_type": "code",
      "metadata": {
        "colab": {
          "base_uri": "https://localhost:8080/"
        },
        "id": "SXfbRz1HHeYz",
        "outputId": "e3ae61f3-c3e4-4f06-ea2c-285e47749649"
      },
      "source": [
        "array=np.zeros(10)\n",
        "\n",
        "print(array)\n",
        "array=np.ones(10)\n",
        "\n",
        "print(array)\n",
        "array=np.ones(10)*5\n",
        "\n",
        "print(array)"
      ],
      "execution_count": null,
      "outputs": [
        {
          "output_type": "stream",
          "text": [
            "An array of 10 zeros:\n",
            "[0. 0. 0. 0. 0. 0. 0. 0. 0. 0.]\n",
            "An array of 10 ones:\n",
            "[1. 1. 1. 1. 1. 1. 1. 1. 1. 1.]\n",
            "An array of 10 fives:\n",
            "[5. 5. 5. 5. 5. 5. 5. 5. 5. 5.]\n"
          ],
          "name": "stdout"
        }
      ]
    },
    {
      "cell_type": "markdown",
      "metadata": {
        "id": "THhmf5x2Hek8"
      },
      "source": [
        "11. Write a NumPy program to create an array of the integers from 30 to70. "
      ]
    },
    {
      "cell_type": "code",
      "metadata": {
        "colab": {
          "base_uri": "https://localhost:8080/"
        },
        "id": "oCA8dfZvHjn0",
        "outputId": "41b132b9-b315-4533-cc85-1e542e1ef37a"
      },
      "source": [
        "array=np.arange(30,71)\n",
        "\n",
        "print(array)"
      ],
      "execution_count": null,
      "outputs": [
        {
          "output_type": "stream",
          "text": [
            "Array of the integers from 30 to70\n",
            "[30 31 32 33 34 35 36 37 38 39 40 41 42 43 44 45 46 47 48 49 50 51 52 53\n",
            " 54 55 56 57 58 59 60 61 62 63 64 65 66 67 68 69 70]\n"
          ],
          "name": "stdout"
        }
      ]
    },
    {
      "cell_type": "markdown",
      "metadata": {
        "id": "IHZl5eZ_Hj2H"
      },
      "source": [
        "12. Write a NumPy program to create an array of all the even integers from 30 to 70. "
      ]
    },
    {
      "cell_type": "code",
      "metadata": {
        "colab": {
          "base_uri": "https://localhost:8080/"
        },
        "id": "MJF-rEQ7HmnN",
        "outputId": "e1d7c540-eeef-436b-f37a-547072aa4a80"
      },
      "source": [
        "array=np.arange(30,71,2)\n",
        "\n",
        "print(array)"
      ],
      "execution_count": null,
      "outputs": [
        {
          "output_type": "stream",
          "text": [
            "Array of all the even integers from 30 to 70\n",
            "[30 32 34 36 38 40 42 44 46 48 50 52 54 56 58 60 62 64 66 68 70]\n"
          ],
          "name": "stdout"
        }
      ]
    },
    {
      "cell_type": "markdown",
      "metadata": {
        "id": "SHLV5A5CHmvk"
      },
      "source": [
        "13. Write a NumPy program to create a 3x3 identity matrix. "
      ]
    },
    {
      "cell_type": "code",
      "metadata": {
        "colab": {
          "base_uri": "https://localhost:8080/"
        },
        "id": "J3Y5WWFMHomf",
        "outputId": "62dea23e-1355-4ead-88b6-17bd4161fffe"
      },
      "source": [
        "a=np.identity(3)\n",
        "print(a)"
      ],
      "execution_count": null,
      "outputs": [
        {
          "output_type": "stream",
          "text": [
            "[[1. 0. 0.]\n",
            " [0. 1. 0.]\n",
            " [0. 0. 1.]]\n"
          ],
          "name": "stdout"
        }
      ]
    },
    {
      "cell_type": "markdown",
      "metadata": {
        "id": "KKZiFya_Houm"
      },
      "source": [
        "14. Write a NumPy program to generate a random number between 0 and 1. "
      ]
    },
    {
      "cell_type": "code",
      "metadata": {
        "colab": {
          "base_uri": "https://localhost:8080/"
        },
        "id": "oXxdc2cRHr6N",
        "outputId": "fafa3195-4b2c-4368-ad7c-ef2153252b2e"
      },
      "source": [
        "rand_num = np.random.normal(0,1,1)\n",
        "print(rand_num)"
      ],
      "execution_count": null,
      "outputs": [
        {
          "output_type": "stream",
          "text": [
            "[1.28956032]\n"
          ],
          "name": "stdout"
        }
      ]
    },
    {
      "cell_type": "markdown",
      "metadata": {
        "id": "jNQfUODbHsDF"
      },
      "source": [
        "15. Write a NumPy program to generate an array of 15 random numbers from a standard normal  distribution. "
      ]
    },
    {
      "cell_type": "code",
      "metadata": {
        "colab": {
          "base_uri": "https://localhost:8080/"
        },
        "id": "5XMdT2AiHt2d",
        "outputId": "4e0656b8-d70f-4346-ff43-907d5124f01b"
      },
      "source": [
        "rand_num = np.random.normal(0,1,15)\n",
        "print(rand_num)"
      ],
      "execution_count": null,
      "outputs": [
        {
          "output_type": "stream",
          "text": [
            "[ 2.17698653  0.46501601  0.70606199  0.17611228  0.48331627 -2.4937098\n",
            "  1.16998865 -0.07789246  0.54257212 -0.74696954 -0.33596875  0.28574831\n",
            " -1.66497638  0.62868337  0.37859194]\n"
          ],
          "name": "stdout"
        }
      ]
    },
    {
      "cell_type": "markdown",
      "metadata": {
        "id": "DwMo9vUvHuAl"
      },
      "source": [
        "16. Write a NumPy program to create a vector with values ranging from 15 to 55 and print all values  except the first and last."
      ]
    },
    {
      "cell_type": "code",
      "metadata": {
        "colab": {
          "base_uri": "https://localhost:8080/"
        },
        "id": "xyKVOPaCHwFl",
        "outputId": "8c960ea9-eca2-4baf-afa1-b4980c2fb246"
      },
      "source": [
        "a = np.arange(15,55)\n",
        "print(a)\n",
        "print(a[1:-1])"
      ],
      "execution_count": null,
      "outputs": [
        {
          "output_type": "stream",
          "text": [
            "[15 16 17 18 19 20 21 22 23 24 25 26 27 28 29 30 31 32 33 34 35 36 37 38\n",
            " 39 40 41 42 43 44 45 46 47 48 49 50 51 52 53 54]\n",
            "[16 17 18 19 20 21 22 23 24 25 26 27 28 29 30 31 32 33 34 35 36 37 38 39\n",
            " 40 41 42 43 44 45 46 47 48 49 50 51 52 53]\n"
          ],
          "name": "stdout"
        }
      ]
    },
    {
      "cell_type": "markdown",
      "metadata": {
        "id": "X0RGuaumHwPY"
      },
      "source": [
        "17. Write a NumPy program to create a vector of length 10 with values evenly distributed between 5  and 50. "
      ]
    },
    {
      "cell_type": "code",
      "metadata": {
        "colab": {
          "base_uri": "https://localhost:8080/"
        },
        "id": "vbFUd_xqHyIw",
        "outputId": "a465c125-f751-46dd-eb6e-68756ff5f4a1"
      },
      "source": [
        "a = np.linspace(10, 49, 5)\n",
        "print(a)"
      ],
      "execution_count": null,
      "outputs": [
        {
          "output_type": "stream",
          "text": [
            "[10.   19.75 29.5  39.25 49.  ]\n"
          ],
          "name": "stdout"
        }
      ]
    },
    {
      "cell_type": "markdown",
      "metadata": {
        "id": "YR4W1c_WHySO"
      },
      "source": [
        "18. Write a NumPy program to multiply the values of two given vectors"
      ]
    },
    {
      "cell_type": "code",
      "metadata": {
        "colab": {
          "base_uri": "https://localhost:8080/"
        },
        "id": "MO9h5j2ZH0Pu",
        "outputId": "50dc6ff4-9ed0-446d-f31d-2caf33a7d73b"
      },
      "source": [
        "x = np.array([1, 8, 3, 5])\n",
        "\n",
        "print(x)\n",
        "y= np.random.randint(0, 11, 4)\n",
        "\n",
        "print(y)\n",
        "result = x * y\n",
        "\n",
        "print(result)"
      ],
      "execution_count": null,
      "outputs": [
        {
          "output_type": "stream",
          "text": [
            "Vector-1\n",
            "[1 8 3 5]\n",
            "Vector-2\n",
            "[ 1 10  2  7]\n",
            "Multiply the values of two said vectors:\n",
            "[ 1 80  6 35]\n"
          ],
          "name": "stdout"
        }
      ]
    },
    {
      "cell_type": "markdown",
      "metadata": {
        "id": "ahKl67QkH0Y0"
      },
      "source": [
        "19. Write a NumPy program to create a 3x4 matrix filled with values from 10 to 21."
      ]
    },
    {
      "cell_type": "code",
      "metadata": {
        "colab": {
          "base_uri": "https://localhost:8080/"
        },
        "id": "UlEI_SKGH4N0",
        "outputId": "6605e8e1-6933-4355-d753-9185cdf1cf63"
      },
      "source": [
        "m= np.arange(10,22).reshape((3, 4))\n",
        "print(m)"
      ],
      "execution_count": null,
      "outputs": [
        {
          "output_type": "stream",
          "text": [
            "[[10 11 12 13]\n",
            " [14 15 16 17]\n",
            " [18 19 20 21]]\n"
          ],
          "name": "stdout"
        }
      ]
    },
    {
      "cell_type": "markdown",
      "metadata": {
        "id": "52KMlBAsH4Ws"
      },
      "source": [
        "20. Write a NumPy program to create a 5x5 zero matrix with elements on the main diagonal equal to  1, 2, 3, 4, 5. "
      ]
    },
    {
      "cell_type": "code",
      "metadata": {
        "colab": {
          "base_uri": "https://localhost:8080/"
        },
        "id": "H4UJoSTaH6FS",
        "outputId": "84823b93-0973-445d-e063-6229efc6e5cd"
      },
      "source": [
        "x = np.diag([1, 2, 3, 4, 5])\n",
        "print(x)"
      ],
      "execution_count": null,
      "outputs": [
        {
          "output_type": "stream",
          "text": [
            "[[1 0 0 0 0]\n",
            " [0 2 0 0 0]\n",
            " [0 0 3 0 0]\n",
            " [0 0 0 4 0]\n",
            " [0 0 0 0 5]]\n"
          ],
          "name": "stdout"
        }
      ]
    },
    {
      "cell_type": "markdown",
      "metadata": {
        "id": "XM_nDhtqH6Ov"
      },
      "source": [
        "21. Write a NumPy program to compute sum of all elements, sum of each column and sum of each "
      ]
    },
    {
      "cell_type": "code",
      "metadata": {
        "colab": {
          "base_uri": "https://localhost:8080/"
        },
        "id": "fnP4hkilH8WI",
        "outputId": "df63d935-5ca4-4f5e-ede4-36e27ef760d5"
      },
      "source": [
        "x = np.array([[0,1],[2,3]])\n",
        "\n",
        "print(x)\n",
        "\n",
        "print(np.sum(x))\n",
        "\n",
        "print(np.sum(x, axis=0))\n",
        "\n",
        "print(np.sum(x, axis=1))"
      ],
      "execution_count": null,
      "outputs": [
        {
          "output_type": "stream",
          "text": [
            "[[0 1]\n",
            " [2 3]]\n",
            "6\n",
            "[2 4]\n",
            "[1 5]\n"
          ],
          "name": "stdout"
        }
      ]
    }
  ]
}