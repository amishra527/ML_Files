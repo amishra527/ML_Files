{
  "nbformat": 4,
  "nbformat_minor": 0,
  "metadata": {
    "colab": {
      "name": "ML numpy LW2",
      "provenance": [],
      "collapsed_sections": []
    },
    "kernelspec": {
      "name": "python3",
      "display_name": "Python 3"
    },
    "language_info": {
      "name": "python"
    }
  },
  "cells": [
    {
      "cell_type": "markdown",
      "metadata": {
        "id": "HiTdESdYRrgm"
      },
      "source": [
        "1. Write a NumPy program to reverse an array (first element becomes last). "
      ]
    },
    {
      "cell_type": "code",
      "metadata": {
        "colab": {
          "base_uri": "https://localhost:8080/"
        },
        "id": "v26fbpg4Rmh-",
        "outputId": "c9e55439-3f6d-4f99-8c98-2ecbe6cdc737"
      },
      "source": [
        "import numpy as np\n",
        "x = np.arange(12, 38)\n",
        "\n",
        "print(x)\n",
        "\n",
        "x = x[::-1]\n",
        "print(x)"
      ],
      "execution_count": null,
      "outputs": [
        {
          "output_type": "stream",
          "text": [
            "[12 13 14 15 16 17 18 19 20 21 22 23 24 25 26 27 28 29 30 31 32 33 34 35\n",
            " 36 37]\n",
            "[37 36 35 34 33 32 31 30 29 28 27 26 25 24 23 22 21 20 19 18 17 16 15 14\n",
            " 13 12]\n"
          ],
          "name": "stdout"
        }
      ]
    },
    {
      "cell_type": "markdown",
      "metadata": {
        "id": "HfABSrYmRzV8"
      },
      "source": [
        "2. Write a NumPy program to extract all odd numbers from an array."
      ]
    },
    {
      "cell_type": "code",
      "metadata": {
        "colab": {
          "base_uri": "https://localhost:8080/"
        },
        "id": "j1ZOqVyVR1iB",
        "outputId": "b6a82287-b8af-4605-ddd7-87c66d78c232"
      },
      "source": [
        "a = np.array([1,2,3,4,5,6,6,7,7,8,9])\n",
        "a[a % 2 == 1]"
      ],
      "execution_count": null,
      "outputs": [
        {
          "output_type": "execute_result",
          "data": {
            "text/plain": [
              "array([1, 3, 5, 7, 7, 9])"
            ]
          },
          "metadata": {
            "tags": []
          },
          "execution_count": 3
        }
      ]
    },
    {
      "cell_type": "markdown",
      "metadata": {
        "id": "SX_sNXo_R1rl"
      },
      "source": [
        " 3. Write a NumPy program to create a 2d array with 1 on the border and 0 inside. "
      ]
    },
    {
      "cell_type": "code",
      "metadata": {
        "id": "J3OD6t3wR3Ue"
      },
      "source": [
        "x = np.ones((5,5))\n",
        "\n",
        "print(x)\n",
        "\n",
        "x[1:-1,1:-1] = 0\n",
        "print(x)"
      ],
      "execution_count": null,
      "outputs": []
    },
    {
      "cell_type": "markdown",
      "metadata": {
        "id": "6xytt1NFR3dF"
      },
      "source": [
        "4. Write a NumPy program to append values to the end of an array. "
      ]
    },
    {
      "cell_type": "code",
      "metadata": {
        "colab": {
          "base_uri": "https://localhost:8080/"
        },
        "id": "8gCZh18FR5Vu",
        "outputId": "05d18574-2da8-4ae5-a3e9-14c9fa90e190"
      },
      "source": [
        "x = [10, 20, 30]\n",
        "\n",
        "print(x)\n",
        "x = np.append(x, [[40, 50, 60], [70, 80, 90]])\n",
        "\n",
        "print(x)"
      ],
      "execution_count": null,
      "outputs": [
        {
          "output_type": "stream",
          "text": [
            "[10, 20, 30]\n",
            "[10 20 30 40 50 60 70 80 90]\n"
          ],
          "name": "stdout"
        }
      ]
    },
    {
      "cell_type": "markdown",
      "metadata": {
        "id": "8urCYoJBR5fX"
      },
      "source": [
        "5. Write a NumPy program to compute the median of flattened given array. "
      ]
    },
    {
      "cell_type": "code",
      "metadata": {
        "colab": {
          "base_uri": "https://localhost:8080/"
        },
        "id": "6TvHt1mjR7Xr",
        "outputId": "9b89c3ff-4f8f-45a6-c839-dae719a59917"
      },
      "source": [
        "x = np.arange(12).reshape((2, 6))\n",
        "\n",
        "print(x)\n",
        "r1 =  np.median(x)\n",
        "\n",
        "print(r1)"
      ],
      "execution_count": null,
      "outputs": [
        {
          "output_type": "stream",
          "text": [
            "[[ 0  1  2  3  4  5]\n",
            " [ 6  7  8  9 10 11]]\n",
            "5.5\n"
          ],
          "name": "stdout"
        }
      ]
    },
    {
      "cell_type": "markdown",
      "metadata": {
        "id": "jr46zGdnR7kL"
      },
      "source": [
        "6. Write a NumPy program to find the most frequent value in an array. "
      ]
    },
    {
      "cell_type": "code",
      "metadata": {
        "colab": {
          "base_uri": "https://localhost:8080/"
        },
        "id": "Ss1l7p7DR9Px",
        "outputId": "09049629-aa7a-4c6c-c6dc-57e4c6c25d32"
      },
      "source": [
        "x = np.random.randint(0, 10, 40)\n",
        "\n",
        "print(x)\n",
        "\n",
        "print(np.bincount(x).argmax())"
      ],
      "execution_count": null,
      "outputs": [
        {
          "output_type": "stream",
          "text": [
            "[5 3 3 9 6 2 0 3 0 7 2 1 7 1 9 5 4 4 3 1 0 5 4 6 2 2 5 8 4 4 6 9 1 1 1 9 2\n",
            " 0 6 7]\n",
            "1\n"
          ],
          "name": "stdout"
        }
      ]
    },
    {
      "cell_type": "markdown",
      "metadata": {
        "id": "1FNOMNzVR9Zq"
      },
      "source": [
        "7. Write a NumPy program to check two random arrays are equal or not "
      ]
    },
    {
      "cell_type": "code",
      "metadata": {
        "colab": {
          "base_uri": "https://localhost:8080/"
        },
        "id": "XTwwqsvNR-9w",
        "outputId": "71f0d320-7fa8-47ca-f1b7-ca1816890d1d"
      },
      "source": [
        "x = np.random.randint(0,2,6)\n",
        "\n",
        "print(x)\n",
        "y = np.random.randint(0,2,6)\n",
        "\n",
        "print(y)\n",
        "\n",
        "array_equal = np.allclose(x, y)\n",
        "print(array_equal)"
      ],
      "execution_count": null,
      "outputs": [
        {
          "output_type": "stream",
          "text": [
            "[0 0 1 1 0 1]\n",
            "[0 1 1 0 0 0]\n",
            "False\n"
          ],
          "name": "stdout"
        }
      ]
    },
    {
      "cell_type": "markdown",
      "metadata": {
        "id": "saAiFyMFR_G6"
      },
      "source": [
        "8. Write a NumPy program to get the powers of an array values element-wise. "
      ]
    },
    {
      "cell_type": "code",
      "metadata": {
        "colab": {
          "base_uri": "https://localhost:8080/"
        },
        "id": "136fQwOMSA-o",
        "outputId": "5eb02ff8-4ac0-4ee1-e531-0ef07b8fdebc"
      },
      "source": [
        "x = np.arange(7)\n",
        "\n",
        "print(x)\n",
        "\n",
        "print(np.power(x, 3))"
      ],
      "execution_count": null,
      "outputs": [
        {
          "output_type": "stream",
          "text": [
            "[0 1 2 3 4 5 6]\n",
            "[  0   1   8  27  64 125 216]\n"
          ],
          "name": "stdout"
        }
      ]
    },
    {
      "cell_type": "markdown",
      "metadata": {
        "id": "oo9zdRydSBIU"
      },
      "source": [
        "9. Write a NumPy program to add, subtract, multiply, divide arguments element-wise. "
      ]
    },
    {
      "cell_type": "code",
      "metadata": {
        "id": "Zx0rBJwhSDEi"
      },
      "source": [
        "print(np.add(1.0, 4.0))\n",
        "\n",
        "print(np.subtract(1.0, 4.0))\n",
        "\n",
        "print(np.multiply(1.0, 4.0))\n",
        "\n",
        "print(np.divide(1.0, 4.0))"
      ],
      "execution_count": null,
      "outputs": []
    },
    {
      "cell_type": "markdown",
      "metadata": {
        "id": "dMh6jba9SDMq"
      },
      "source": [
        "10. Write a NumPy program to compute the multiplication of two given matrixes. "
      ]
    },
    {
      "cell_type": "code",
      "metadata": {
        "colab": {
          "base_uri": "https://localhost:8080/"
        },
        "id": "eqMKEVLRSE0B",
        "outputId": "6d6d1dee-936f-4e63-dd0e-15ce1f2a0044"
      },
      "source": [
        "p = [[1, 0], [0, 1]]\n",
        "q = [[1, 2], [3, 4]]\n",
        "\n",
        "print(p)\n",
        "print(q)\n",
        "result1 = np.dot(p, q)\n",
        "\n",
        "print(result1)"
      ],
      "execution_count": null,
      "outputs": [
        {
          "output_type": "stream",
          "text": [
            "[[1, 0], [0, 1]]\n",
            "[[1, 2], [3, 4]]\n",
            "[[1 2]\n",
            " [3 4]]\n"
          ],
          "name": "stdout"
        }
      ]
    },
    {
      "cell_type": "markdown",
      "metadata": {
        "id": "eNg_KSbXSE96"
      },
      "source": [
        "11. Write a NumPy program to replace all odd numbers in arr with -1 "
      ]
    },
    {
      "cell_type": "code",
      "metadata": {
        "colab": {
          "base_uri": "https://localhost:8080/"
        },
        "id": "gX871hmuSHCK",
        "outputId": "4e90a996-3de1-453f-ffe4-7341110e3e7c"
      },
      "source": [
        "a = np.array([ 1,  2,  3,  4,  5,  6,  7,  8,  9, 10]) \n",
        " \n",
        "o = (a%2 == 1) \n",
        "a[o] = -1 \n",
        "print(a)"
      ],
      "execution_count": null,
      "outputs": [
        {
          "output_type": "stream",
          "text": [
            "[-1  2 -1  4 -1  6 -1  8 -1 10]\n"
          ],
          "name": "stdout"
        }
      ]
    },
    {
      "cell_type": "markdown",
      "metadata": {
        "id": "daeluzgsSHLm"
      },
      "source": [
        "12. Replace all odd numbers in arr with -1 without changing arr "
      ]
    },
    {
      "cell_type": "code",
      "metadata": {
        "colab": {
          "base_uri": "https://localhost:8080/"
        },
        "id": "8XoCQuW5SI0M",
        "outputId": "8f76aa80-97e2-41c1-d89f-2a31a042a1a3"
      },
      "source": [
        "a = np.array([ 1,  2,  3,  4,  5,  6,  7,  8,  9, 10]) \n",
        " \n",
        "o = (a%2 == 1) \n",
        "a[o] = -1 \n",
        "print(a)"
      ],
      "execution_count": null,
      "outputs": [
        {
          "output_type": "stream",
          "text": [
            "[-1  2 -1  4 -1  6 -1  8 -1 10]\n"
          ],
          "name": "stdout"
        }
      ]
    },
    {
      "cell_type": "markdown",
      "metadata": {
        "id": "VgSl3NxfSI-T"
      },
      "source": [
        "13. Convert a 1D array to a 2D array with 2 rows "
      ]
    },
    {
      "cell_type": "code",
      "metadata": {
        "colab": {
          "base_uri": "https://localhost:8080/"
        },
        "id": "lh0yq8BZSKc7",
        "outputId": "a98d0fd6-b6d7-4d25-a684-77612ff7db3e"
      },
      "source": [
        "arr = np.array([0, 1, 2, 3, 4, 5, 6, 7, 8, 9])\n",
        "arr_2d = np.reshape(arr, (2, 5))\n",
        "print(arr_2d)"
      ],
      "execution_count": null,
      "outputs": [
        {
          "output_type": "stream",
          "text": [
            "[[0 1 2 3 4]\n",
            " [5 6 7 8 9]]\n"
          ],
          "name": "stdout"
        }
      ]
    },
    {
      "cell_type": "markdown",
      "metadata": {
        "id": "9bm3VZCZSKnn"
      },
      "source": [
        "14. Write a numpy program to swap two columns in a 2d numpy array? "
      ]
    },
    {
      "cell_type": "code",
      "metadata": {
        "colab": {
          "base_uri": "https://localhost:8080/"
        },
        "id": "vvdWUJlmSMcy",
        "outputId": "c1662b5d-e3cf-4433-ae79-4f3a53bdbacf"
      },
      "source": [
        "a = np.arange(12).reshape(4, 3)\n",
        "\n",
        "print(a)\n",
        "\n",
        "a[:, [2, 0]] = a[:, [0, 2]]\n",
        "\n",
        "print(a)"
      ],
      "execution_count": null,
      "outputs": [
        {
          "output_type": "stream",
          "text": [
            "[[ 0  1  2]\n",
            " [ 3  4  5]\n",
            " [ 6  7  8]\n",
            " [ 9 10 11]]\n",
            "[[ 2  1  0]\n",
            " [ 5  4  3]\n",
            " [ 8  7  6]\n",
            " [11 10  9]]\n"
          ],
          "name": "stdout"
        }
      ]
    },
    {
      "cell_type": "markdown",
      "metadata": {
        "id": "fisWpQyeSMna"
      },
      "source": [
        "15. Write a numpy program to swap two rows in a 2d numpy array?"
      ]
    },
    {
      "cell_type": "code",
      "metadata": {
        "colab": {
          "base_uri": "https://localhost:8080/"
        },
        "id": "tG7kNS6NSN-k",
        "outputId": "caa5e637-f33c-4308-d200-ed23b0f8c4cb"
      },
      "source": [
        "a = np.arange(12).reshape(4, 3)\n",
        "\n",
        "print(a)\n",
        "\n",
        "a[[0, 2]] = a[[2, 0]]\n",
        "\n",
        "print(a)"
      ],
      "execution_count": null,
      "outputs": [
        {
          "output_type": "stream",
          "text": [
            "[[ 0  1  2]\n",
            " [ 3  4  5]\n",
            " [ 6  7  8]\n",
            " [ 9 10 11]]\n",
            "[[ 6  7  8]\n",
            " [ 3  4  5]\n",
            " [ 0  1  2]\n",
            " [ 9 10 11]]\n"
          ],
          "name": "stdout"
        }
      ]
    },
    {
      "cell_type": "markdown",
      "metadata": {
        "id": "wthwM9_gSOUN"
      },
      "source": [
        "16. Write a numpy program to reverse the rows of a 2D array? "
      ]
    },
    {
      "cell_type": "code",
      "metadata": {
        "colab": {
          "base_uri": "https://localhost:8080/"
        },
        "id": "Rmqu2bJTSVba",
        "outputId": "4fdb3c46-1925-4835-ef06-a097e961a989"
      },
      "source": [
        "n = np.array([[[1, 2, 3, 4],[0, 1, 3, 4],[90, 91, 93, 94],[5, 0, 3, 2]]])\n",
        "\n",
        "print(n)\n",
        "\n",
        "n1 = print(n[::-1, ::-1])\n"
      ],
      "execution_count": null,
      "outputs": [
        {
          "output_type": "stream",
          "text": [
            "[[[ 1  2  3  4]\n",
            "  [ 0  1  3  4]\n",
            "  [90 91 93 94]\n",
            "  [ 5  0  3  2]]]\n",
            "[[[ 5  0  3  2]\n",
            "  [90 91 93 94]\n",
            "  [ 0  1  3  4]\n",
            "  [ 1  2  3  4]]]\n"
          ],
          "name": "stdout"
        }
      ]
    },
    {
      "cell_type": "markdown",
      "metadata": {
        "id": "6HelZmtISVmh"
      },
      "source": [
        "17. Write a numpy program to reverse the columns of a 2D array?"
      ]
    },
    {
      "cell_type": "code",
      "metadata": {
        "id": "1Rk1TXqySXnP",
        "colab": {
          "base_uri": "https://localhost:8080/"
        },
        "outputId": "c19e4e17-04b8-4f10-9eeb-96cab22bffbf"
      },
      "source": [
        "arr2D = np.array([[11, 12, 13, 11], [21, 22, 23, 24], [31, 32, 33, 34]])\n",
        "\n",
        "print(arr2D)\n",
        "\n",
        "reversedArr = np.flip(arr2D, axis=1)\n",
        "\n",
        "print(reversedArr)"
      ],
      "execution_count": null,
      "outputs": [
        {
          "output_type": "stream",
          "text": [
            "[[11 12 13 11]\n",
            " [21 22 23 24]\n",
            " [31 32 33 34]]\n",
            "[[11 13 12 11]\n",
            " [24 23 22 21]\n",
            " [34 33 32 31]]\n"
          ],
          "name": "stdout"
        }
      ]
    }
  ]
}